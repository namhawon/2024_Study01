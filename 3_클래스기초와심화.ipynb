{
  "nbformat": 4,
  "nbformat_minor": 0,
  "metadata": {
    "colab": {
      "provenance": [],
      "include_colab_link": true
    },
    "kernelspec": {
      "name": "python3",
      "display_name": "Python 3"
    },
    "language_info": {
      "name": "python"
    }
  },
  "cells": [
    {
      "cell_type": "markdown",
      "metadata": {
        "id": "view-in-github",
        "colab_type": "text"
      },
      "source": [
        "<a href=\"https://colab.research.google.com/github/namhawon/2024_Study01/blob/main/3_%ED%81%B4%EB%9E%98%EC%8A%A4%EA%B8%B0%EC%B4%88%EC%99%80%EC%8B%AC%ED%99%94.ipynb\" target=\"_parent\"><img src=\"https://colab.research.google.com/assets/colab-badge.svg\" alt=\"Open In Colab\"/></a>"
      ]
    },
    {
      "cell_type": "markdown",
      "source": [
        "# 1.클래스"
      ],
      "metadata": {
        "id": "HOZwYDxNtGuv"
      }
    },
    {
      "cell_type": "code",
      "execution_count": null,
      "metadata": {
        "id": "3wr9Ogths9-c"
      },
      "outputs": [],
      "source": [
        "class Tunaset():\n",
        "  normal = 0\n",
        "  veg = 0\n",
        "  pepper = 0\n"
      ]
    },
    {
      "cell_type": "code",
      "source": [
        "tunaset1 = Tunaset()\n",
        "tunaset2 = Tunaset()\n",
        "\n",
        "tunaset1.normal = 100\n",
        "tunaset1.veg = 200\n",
        "tunaset1.pepper = 300\n",
        "\n",
        "tunaset2.normal = 200\n"
      ],
      "metadata": {
        "id": "kufwh2GPvIcm"
      },
      "execution_count": null,
      "outputs": []
    },
    {
      "cell_type": "code",
      "source": [
        "tunaset1.normal"
      ],
      "metadata": {
        "colab": {
          "base_uri": "https://localhost:8080/"
        },
        "id": "1wdMcu0OvVuS",
        "outputId": "5586ce0f-5291-41cc-d7d0-dff49a89339e"
      },
      "execution_count": null,
      "outputs": [
        {
          "output_type": "execute_result",
          "data": {
            "text/plain": [
              "100"
            ]
          },
          "metadata": {},
          "execution_count": 3
        }
      ]
    },
    {
      "cell_type": "code",
      "source": [
        "tunaset2.veg"
      ],
      "metadata": {
        "colab": {
          "base_uri": "https://localhost:8080/"
        },
        "id": "9WhpJI5ivYRV",
        "outputId": "fabddd26-e654-4ec4-eae9-277b33fd1263"
      },
      "execution_count": null,
      "outputs": [
        {
          "output_type": "execute_result",
          "data": {
            "text/plain": [
              "0"
            ]
          },
          "metadata": {},
          "execution_count": 4
        }
      ]
    },
    {
      "cell_type": "code",
      "source": [
        "class Tunaset():\n",
        "  normal = 0\n",
        "  veg = 0\n",
        "  pepper = 0\n",
        "\n",
        "  # 메소드의 첫번째 매개변수는 self이다.\n",
        "  def print_items(self, name): # self는 인스턴스 그 자신\n",
        "    print(name)\n",
        "    print('normal : ', self.normal)\n",
        "    print('veg : ', self.veg)\n",
        "    print('pepper : ', self.pepper)\n",
        "\n",
        "tunaset1 = Tunaset()"
      ],
      "metadata": {
        "id": "ZCAAEsyUviOs"
      },
      "execution_count": null,
      "outputs": []
    },
    {
      "cell_type": "code",
      "source": [
        "tunaset1.normal"
      ],
      "metadata": {
        "colab": {
          "base_uri": "https://localhost:8080/"
        },
        "id": "l4EsxTFFwSFn",
        "outputId": "20225a08-a748-49e5-f249-5c83158344a3"
      },
      "execution_count": null,
      "outputs": [
        {
          "output_type": "execute_result",
          "data": {
            "text/plain": [
              "0"
            ]
          },
          "metadata": {},
          "execution_count": 7
        }
      ]
    },
    {
      "cell_type": "code",
      "source": [
        "tunaset1.normal = 100\n",
        "tunaset1.normal"
      ],
      "metadata": {
        "colab": {
          "base_uri": "https://localhost:8080/"
        },
        "id": "xphvcyRkwmz3",
        "outputId": "da8f0c21-5a0f-4886-9638-a7d2099dfb87"
      },
      "execution_count": null,
      "outputs": [
        {
          "output_type": "execute_result",
          "data": {
            "text/plain": [
              "100"
            ]
          },
          "metadata": {},
          "execution_count": 8
        }
      ]
    },
    {
      "cell_type": "code",
      "source": [
        "tunaset1.print_items('참치세트1번')"
      ],
      "metadata": {
        "colab": {
          "base_uri": "https://localhost:8080/"
        },
        "id": "ZOVVSRkQwvrp",
        "outputId": "6da81c73-b493-4c97-eca8-cd2f74cb85d8"
      },
      "execution_count": null,
      "outputs": [
        {
          "output_type": "stream",
          "name": "stdout",
          "text": [
            "참치세트1번\n",
            "normal :  100\n",
            "veg :  0\n",
            "pepper :  0\n"
          ]
        }
      ]
    },
    {
      "cell_type": "code",
      "source": [
        "tunaset2 = Tunaset()"
      ],
      "metadata": {
        "id": "-ZM2PfRzw806"
      },
      "execution_count": null,
      "outputs": []
    },
    {
      "cell_type": "code",
      "source": [
        "# 인스턴스 만들기\n",
        "tunaset1 = Tunaset()\n",
        "tunaset1.normal = 100\n",
        "tunaset1.veg = 200\n",
        "tunaset1.pepper = 300\n",
        "\n",
        "tunaset2 = Tunaset()\n",
        "tunaset2.normal = 200\n",
        "tunaset2.veg = 300\n",
        "tunaset2.pepper = 400\n",
        "\n"
      ],
      "metadata": {
        "id": "4zv3CMFXxcV6"
      },
      "execution_count": null,
      "outputs": []
    },
    {
      "cell_type": "code",
      "source": [
        "tunaset1.print_items('tunaset1의 내용물')\n",
        "print('--------------------')\n",
        "tunaset2.print_items('tunaset2의 내용물')"
      ],
      "metadata": {
        "colab": {
          "base_uri": "https://localhost:8080/"
        },
        "id": "uaWB1vAixSX9",
        "outputId": "5ad6cfe1-0af9-44fa-fdf9-1a92a7d5bb71"
      },
      "execution_count": null,
      "outputs": [
        {
          "output_type": "stream",
          "name": "stdout",
          "text": [
            "tunaset1의 내용물\n",
            "normal :  100\n",
            "veg :  200\n",
            "pepper :  300\n",
            "--------------------\n",
            "tunaset2의 내용물\n",
            "normal :  200\n",
            "veg :  300\n",
            "pepper :  400\n"
          ]
        }
      ]
    },
    {
      "cell_type": "markdown",
      "source": [
        "### 1-1.클래스의 생성자"
      ],
      "metadata": {
        "id": "1SYmP1WAxx2n"
      }
    },
    {
      "cell_type": "code",
      "source": [
        "class Tunaset(): # 클래스 이름은 첫 글자가 대문자\n",
        "  def __init__(self, normal, veg, pepper):\n",
        "    self.normal = normal\n",
        "    self.veg = veg\n",
        "    self.pepper = pepper\n",
        "\n",
        "\n",
        "  def print_items(self, name): # self는 인스턴스 그 자신\n",
        "    print(name)\n",
        "    print('normal : ', self.normal)\n",
        "    print('veg : ', self.veg)\n",
        "    print('pepper : ', self.pepper)"
      ],
      "metadata": {
        "id": "8unNDnY5xoUQ"
      },
      "execution_count": null,
      "outputs": []
    },
    {
      "cell_type": "code",
      "source": [
        "tunaset1 = Tunaset(100, 200, 300)"
      ],
      "metadata": {
        "id": "8TYar8PFyPFB"
      },
      "execution_count": null,
      "outputs": []
    },
    {
      "cell_type": "code",
      "source": [
        "tunaset1.normal"
      ],
      "metadata": {
        "colab": {
          "base_uri": "https://localhost:8080/"
        },
        "id": "WVoiXBjRyfR6",
        "outputId": "0a9c97b2-a2ac-4e77-9fd9-20e4ee3b50b7"
      },
      "execution_count": null,
      "outputs": [
        {
          "output_type": "execute_result",
          "data": {
            "text/plain": [
              "100"
            ]
          },
          "metadata": {},
          "execution_count": 15
        }
      ]
    },
    {
      "cell_type": "code",
      "source": [
        "tunaset1.print_items('temp1')"
      ],
      "metadata": {
        "colab": {
          "base_uri": "https://localhost:8080/"
        },
        "id": "9Fgmo56rygzK",
        "outputId": "9a80a366-d11b-4302-90ac-317b37ecc075"
      },
      "execution_count": null,
      "outputs": [
        {
          "output_type": "stream",
          "name": "stdout",
          "text": [
            "temp1\n",
            "normal :  100\n",
            "veg :  200\n",
            "pepper :  300\n"
          ]
        }
      ]
    },
    {
      "cell_type": "code",
      "source": [
        "class Tunaset(): # 클래스 이름은 첫 글자가 대문자\n",
        "\n",
        "  normal = 0\n",
        "  veg = 0\n",
        "  pepper = 0\n",
        "\n",
        "  def __init__(self, normal, veg, pepper):\n",
        "    self.normal = normal\n",
        "    self.veg = veg\n",
        "    self.pepper = pepper\n",
        "\n",
        "\n",
        "  def print_items(self, name): # self는 인스턴스 그 자신\n",
        "    print(name)\n",
        "    print('normal : ', self.normal)\n",
        "    print('veg : ', self.veg)\n",
        "    print('pepper : ', self.pepper)"
      ],
      "metadata": {
        "id": "wTux54mTy-5u"
      },
      "execution_count": null,
      "outputs": []
    },
    {
      "cell_type": "code",
      "source": [
        "class Box():\n",
        "  red = 0\n",
        "  blue = 1\n",
        "\n",
        "  def __init__(self, blue):\n",
        "    self.blue = blue\n",
        "    Box.red = Box.red + 1"
      ],
      "metadata": {
        "id": "4h3lneZezRfm"
      },
      "execution_count": null,
      "outputs": []
    },
    {
      "cell_type": "code",
      "source": [
        "box1 = Box(2)\n",
        "print(box1.red)\n",
        "print(box1.blue)"
      ],
      "metadata": {
        "colab": {
          "base_uri": "https://localhost:8080/"
        },
        "id": "Z_s37EYEzljY",
        "outputId": "640c1b6e-a832-4f3d-f2f5-73af5364587d"
      },
      "execution_count": null,
      "outputs": [
        {
          "output_type": "stream",
          "name": "stdout",
          "text": [
            "1\n",
            "2\n"
          ]
        }
      ]
    },
    {
      "cell_type": "code",
      "source": [
        "box2 = Box(1)\n",
        "print(box2.red)\n",
        "print(box2.blue)"
      ],
      "metadata": {
        "colab": {
          "base_uri": "https://localhost:8080/"
        },
        "id": "oXEHIfw1zzuN",
        "outputId": "bc35414c-f503-49a0-b9b1-6d65fa1190e8"
      },
      "execution_count": null,
      "outputs": [
        {
          "output_type": "stream",
          "name": "stdout",
          "text": [
            "2\n",
            "1\n"
          ]
        }
      ]
    },
    {
      "cell_type": "code",
      "source": [
        "box3 = Box(100)\n",
        "print(box3.red)\n",
        "print(box3.blue)"
      ],
      "metadata": {
        "colab": {
          "base_uri": "https://localhost:8080/"
        },
        "id": "14rNMaV98yBa",
        "outputId": "4df7a4d7-c9fb-44e3-d5c4-5d1ad0a44f91"
      },
      "execution_count": null,
      "outputs": [
        {
          "output_type": "stream",
          "name": "stdout",
          "text": [
            "6\n",
            "100\n"
          ]
        }
      ]
    },
    {
      "cell_type": "markdown",
      "source": [
        "### 1-2.상속"
      ],
      "metadata": {
        "id": "sX40OK1X0ouq"
      }
    },
    {
      "cell_type": "code",
      "source": [
        "str1 = 'hello'\n",
        "print(\"type : \", type(str1))\n",
        "# print(\"dir : \", dir(str1))"
      ],
      "metadata": {
        "colab": {
          "base_uri": "https://localhost:8080/"
        },
        "id": "MsPRxhBo8_oY",
        "outputId": "c4ef2fd7-1769-4b15-99af-fa9411aa9339"
      },
      "execution_count": null,
      "outputs": [
        {
          "output_type": "stream",
          "name": "stdout",
          "text": [
            "type :  <class 'str'>\n"
          ]
        }
      ]
    },
    {
      "cell_type": "code",
      "source": [
        "# object\n",
        "\n",
        "class Student(object):\n",
        "  def __new__(cls, *args):\n",
        "    print('__new__ gets called.')\n",
        "    student = object.__new__(cls)\n",
        "    return student\n",
        "\n",
        "  def __init__(self, name, id_number): # 생성자\n",
        "    self.name = name\n",
        "    self.id_number = id_number\n",
        "    print('__init__ gets called.')"
      ],
      "metadata": {
        "id": "TMuSnsn10NAi"
      },
      "execution_count": null,
      "outputs": []
    },
    {
      "cell_type": "code",
      "source": [
        "student1 = Student('Hong', 1)"
      ],
      "metadata": {
        "colab": {
          "base_uri": "https://localhost:8080/"
        },
        "id": "bN1X66CB08KG",
        "outputId": "e413e542-4650-4072-d5cc-11a939958fd0"
      },
      "execution_count": null,
      "outputs": [
        {
          "output_type": "stream",
          "name": "stdout",
          "text": [
            "__new__ gets called.\n",
            "__init__ gets called.\n"
          ]
        }
      ]
    },
    {
      "cell_type": "markdown",
      "source": [
        "### 1-3.오버라이딩(Overriding)"
      ],
      "metadata": {
        "id": "nJJAXWC72mK6"
      }
    },
    {
      "cell_type": "code",
      "source": [
        "class Tunaset(): # 클래스 이름은 첫 글자가 대문자\n",
        "  def __init__(self, normal, veg, pepper):\n",
        "    self.normal = normal\n",
        "    self.veg = veg\n",
        "    self.pepper = pepper\n",
        "\n",
        "  def print_items(self, name): # self는 인스턴스 그 자신\n",
        "    print(name)\n",
        "    print('normal : ', self.normal)\n",
        "    print('veg : ', self.veg)\n",
        "    print('pepper : ', self.pepper)\n",
        "\n",
        "\n",
        "# special 이라는 품목 추가\n",
        "class SpecialSet(Tunaset):\n",
        "  def __init__(self, normal, veg, pepper, special):\n",
        "    self.normal = normal\n",
        "    self.veg = veg\n",
        "    self.pepper = pepper\n",
        "    self.special = special\n",
        "\n",
        "  def print_items(self, name):\n",
        "    super().print_items(name)\n"
      ],
      "metadata": {
        "id": "0wzEee9Y2n0t"
      },
      "execution_count": null,
      "outputs": []
    },
    {
      "cell_type": "code",
      "source": [
        "specialset = SpecialSet(100, 200, 300, 400)\n",
        "specialset.normal"
      ],
      "metadata": {
        "colab": {
          "base_uri": "https://localhost:8080/"
        },
        "id": "1F5q59Ev09mM",
        "outputId": "0a44f0c1-8ddc-4748-e3ae-7ac71840b304"
      },
      "execution_count": null,
      "outputs": [
        {
          "output_type": "execute_result",
          "data": {
            "text/plain": [
              "100"
            ]
          },
          "metadata": {},
          "execution_count": 32
        }
      ]
    },
    {
      "cell_type": "code",
      "source": [
        "# special 이라는 품목 추가\n",
        "class SpecialSet(Tunaset):\n",
        "  def __init__(self, normal, veg, pepper, special):\n",
        "    super().__init__(normal, veg, pepper)\n",
        "    self.special = special\n",
        "\n",
        "  def print_items(self, name):\n",
        "    super().print_items(name)"
      ],
      "metadata": {
        "id": "ygR0OpJV3TDt"
      },
      "execution_count": null,
      "outputs": []
    },
    {
      "cell_type": "code",
      "source": [
        "# special 이라는 품목 추가 하고 print_items에서 special 출력\n",
        "class SpecialSet(Tunaset):\n",
        "  def __init__(self, normal, veg, pepper, special):\n",
        "    super().__init__(normal, veg, pepper)\n",
        "    self.special = special\n",
        "\n",
        "  def print_items(self, name):\n",
        "    super().print_items(name)\n",
        "    print('special : ', self.special)"
      ],
      "metadata": {
        "id": "IHVf-WO64dHZ"
      },
      "execution_count": null,
      "outputs": []
    },
    {
      "cell_type": "code",
      "source": [
        "specialset1 = SpecialSet(1, 2, 3, 4)\n",
        "specialset1.print_items('specialset1 출력')"
      ],
      "metadata": {
        "colab": {
          "base_uri": "https://localhost:8080/"
        },
        "id": "g_lMwf2o5Avn",
        "outputId": "56cd8b9a-d456-42ba-fa78-3dc9faa5a6d7"
      },
      "execution_count": null,
      "outputs": [
        {
          "output_type": "stream",
          "name": "stdout",
          "text": [
            "specialset1 출력\n",
            "normal :  1\n",
            "veg :  2\n",
            "pepper :  3\n",
            "special :  4\n"
          ]
        }
      ]
    },
    {
      "cell_type": "code",
      "source": [
        "tunaset = Tunaset(1, 2, 3)\n",
        "tunaset.print_items('tunaset 출력')"
      ],
      "metadata": {
        "colab": {
          "base_uri": "https://localhost:8080/"
        },
        "id": "adcFvvmm5Hzb",
        "outputId": "bff64bd9-c2d3-43ed-d19c-603b87ccf3a9"
      },
      "execution_count": null,
      "outputs": [
        {
          "output_type": "stream",
          "name": "stdout",
          "text": [
            "tunaset 출력\n",
            "normal :  1\n",
            "veg :  2\n",
            "pepper :  3\n"
          ]
        }
      ]
    },
    {
      "cell_type": "code",
      "source": [
        "print(dir(Tunaset)) ; print(type(Tunaset))"
      ],
      "metadata": {
        "colab": {
          "base_uri": "https://localhost:8080/"
        },
        "id": "fFt0YYbx5WKn",
        "outputId": "951afbff-5ead-45b1-ade6-0624e0cc9e0f"
      },
      "execution_count": null,
      "outputs": [
        {
          "output_type": "stream",
          "name": "stdout",
          "text": [
            "['__class__', '__delattr__', '__dict__', '__dir__', '__doc__', '__eq__', '__format__', '__ge__', '__getattribute__', '__gt__', '__hash__', '__init__', '__init_subclass__', '__le__', '__lt__', '__module__', '__ne__', '__new__', '__reduce__', '__reduce_ex__', '__repr__', '__setattr__', '__sizeof__', '__str__', '__subclasshook__', '__weakref__', 'print_items']\n",
            "<class 'type'>\n"
          ]
        }
      ]
    },
    {
      "cell_type": "code",
      "source": [
        "class Tunaset(): # 클래스 이름은 첫 글자가 대문자\n",
        "  def __init__(self, normal, veg, pepper):\n",
        "    self.normal = normal\n",
        "    self.veg = veg\n",
        "    self.pepper = pepper\n",
        "\n",
        "  def print_items(self, name): # self는 인스턴스 그 자신\n",
        "    print(name)\n",
        "    print('normal : ', self.normal)\n",
        "    print('veg : ', self.veg)\n",
        "    print('pepper : ', self.pepper)\n",
        "\n",
        "  def __str__(self):\n",
        "    return \"I'm Tuna\"\n",
        "    # return 'normal : ' + str(self.normal) + ', veg : ' + str(self.veg) + ', pepper : ' + str(self.pepper)\n",
        "\n",
        "  def __call__(self, x): # 딥러닝 할때 엄청 많이 씀.\n",
        "    print(\" x : \", x)\n",
        "    print('call')\n",
        "\n",
        "goodTuna = Tunaset(1, 2, 3)\n",
        "goodTuna.print_items('goodTuna')"
      ],
      "metadata": {
        "colab": {
          "base_uri": "https://localhost:8080/"
        },
        "id": "Xf9g8tMu_E09",
        "outputId": "7577c904-1cab-4f56-8cb5-861e6e538876"
      },
      "execution_count": null,
      "outputs": [
        {
          "output_type": "stream",
          "name": "stdout",
          "text": [
            "goodTuna\n",
            "normal :  1\n",
            "veg :  2\n",
            "pepper :  3\n"
          ]
        }
      ]
    },
    {
      "cell_type": "code",
      "source": [
        "goodTuna"
      ],
      "metadata": {
        "colab": {
          "base_uri": "https://localhost:8080/"
        },
        "id": "OK_YFW1A_W-8",
        "outputId": "81360522-30ee-4773-833c-6e5530bb0683"
      },
      "execution_count": null,
      "outputs": [
        {
          "output_type": "execute_result",
          "data": {
            "text/plain": [
              "<__main__.Tunaset at 0x7a2e2d6567a0>"
            ]
          },
          "metadata": {},
          "execution_count": 44
        }
      ]
    },
    {
      "cell_type": "code",
      "source": [
        "print(goodTuna)"
      ],
      "metadata": {
        "colab": {
          "base_uri": "https://localhost:8080/"
        },
        "id": "3oF4eKuS_ZVB",
        "outputId": "8ecc95e6-bf5b-4adf-a3b1-cd2eb4b1f03f"
      },
      "execution_count": null,
      "outputs": [
        {
          "output_type": "stream",
          "name": "stdout",
          "text": [
            "I'm Tuna\n"
          ]
        }
      ]
    },
    {
      "cell_type": "code",
      "source": [
        "goodTuna(3)"
      ],
      "metadata": {
        "colab": {
          "base_uri": "https://localhost:8080/"
        },
        "id": "ayrVn9jN_lvP",
        "outputId": "79f1479e-d1d0-43fa-b638-459ea6ee56c5"
      },
      "execution_count": null,
      "outputs": [
        {
          "output_type": "stream",
          "name": "stdout",
          "text": [
            " x :  3\n",
            "call\n"
          ]
        }
      ]
    },
    {
      "cell_type": "code",
      "source": [
        "list1 = [1, 2, 3]\n",
        "dict1 = {'a' : 1, 'b' : 2}\n",
        "print(list1)\n",
        "print(dict1)"
      ],
      "metadata": {
        "colab": {
          "base_uri": "https://localhost:8080/"
        },
        "id": "oGmVVDj2AFuL",
        "outputId": "8cd35e3f-c4c7-4083-e16f-d96143c21f04"
      },
      "execution_count": null,
      "outputs": [
        {
          "output_type": "stream",
          "name": "stdout",
          "text": [
            "[1, 2, 3]\n",
            "{'a': 1, 'b': 2}\n"
          ]
        }
      ]
    },
    {
      "cell_type": "code",
      "source": [
        "print(\"list1[1] : \", list1[1])\n",
        "print(\"dict1['b'] : \", dict1['b'])"
      ],
      "metadata": {
        "colab": {
          "base_uri": "https://localhost:8080/"
        },
        "id": "wh06pLtyAdpw",
        "outputId": "b0db8a62-b947-4bad-d124-041419f3cf90"
      },
      "execution_count": null,
      "outputs": [
        {
          "output_type": "stream",
          "name": "stdout",
          "text": [
            "list1[1] :  2\n",
            "dict1['b'] :  2\n"
          ]
        }
      ]
    },
    {
      "cell_type": "code",
      "source": [
        "list2 = [1, \"이\", 2.3]\n",
        "print(list2)"
      ],
      "metadata": {
        "colab": {
          "base_uri": "https://localhost:8080/"
        },
        "id": "RhSfOZFZAmWU",
        "outputId": "367117c1-f5b9-4ba0-b58f-b35050c7d598"
      },
      "execution_count": null,
      "outputs": [
        {
          "output_type": "stream",
          "name": "stdout",
          "text": [
            "[1, '이', 2.3]\n"
          ]
        }
      ]
    },
    {
      "cell_type": "code",
      "source": [
        "# 함수와 메서드 의 차이점\n",
        "def add(x):\n",
        "  return x + 1\n",
        "\n",
        "class Add1():\n",
        "  def add(self, x):\n",
        "    return x + 1"
      ],
      "metadata": {
        "id": "2y2WXK4nAspq"
      },
      "execution_count": null,
      "outputs": []
    }
  ]
}