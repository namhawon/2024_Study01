{
  "nbformat": 4,
  "nbformat_minor": 0,
  "metadata": {
    "colab": {
      "provenance": [],
      "include_colab_link": true
    },
    "kernelspec": {
      "name": "python3",
      "display_name": "Python 3"
    },
    "language_info": {
      "name": "python"
    }
  },
  "cells": [
    {
      "cell_type": "markdown",
      "metadata": {
        "id": "view-in-github",
        "colab_type": "text"
      },
      "source": [
        "<a href=\"https://colab.research.google.com/github/namhawon/2024_Study01/blob/main/1_%EC%9E%90%EB%A3%8C%ED%98%95%EA%B3%BC%EC%A1%B0%EA%B1%B4%EB%AC%B8.ipynb\" target=\"_parent\"><img src=\"https://colab.research.google.com/assets/colab-badge.svg\" alt=\"Open In Colab\"/></a>"
      ]
    },
    {
      "cell_type": "markdown",
      "source": [
        "# 1.자료형"
      ],
      "metadata": {
        "id": "qMMqL9M7cN8U"
      }
    },
    {
      "cell_type": "markdown",
      "source": [
        "### 1-1.숫자형"
      ],
      "metadata": {
        "id": "pNIyqwrtcJtp"
      }
    },
    {
      "cell_type": "code",
      "execution_count": null,
      "metadata": {
        "colab": {
          "base_uri": "https://localhost:8080/"
        },
        "id": "iJd1Lp22av0X",
        "outputId": "56cf6a36-c458-4a92-a5e1-4af32a66c5ab"
      },
      "outputs": [
        {
          "output_type": "execute_result",
          "data": {
            "text/plain": [
              "4"
            ]
          },
          "metadata": {},
          "execution_count": 1
        }
      ],
      "source": [
        "a = 3\n",
        "a = a + 1\n",
        "a"
      ]
    },
    {
      "cell_type": "code",
      "source": [
        "a = 3\n",
        "b = 4\n",
        "a + b\n"
      ],
      "metadata": {
        "colab": {
          "base_uri": "https://localhost:8080/"
        },
        "id": "ALv3zdFNbdas",
        "outputId": "9ab28745-db33-42a3-b664-da0d7c6d80d6"
      },
      "execution_count": null,
      "outputs": [
        {
          "output_type": "execute_result",
          "data": {
            "text/plain": [
              "7"
            ]
          },
          "metadata": {},
          "execution_count": 2
        }
      ]
    },
    {
      "cell_type": "code",
      "source": [
        "a * b"
      ],
      "metadata": {
        "colab": {
          "base_uri": "https://localhost:8080/"
        },
        "id": "qHPkG-NWbsug",
        "outputId": "54f7a562-2999-4844-f6dc-257854a6a464"
      },
      "execution_count": null,
      "outputs": [
        {
          "output_type": "execute_result",
          "data": {
            "text/plain": [
              "12"
            ]
          },
          "metadata": {},
          "execution_count": 3
        }
      ]
    },
    {
      "cell_type": "code",
      "source": [
        "a / b"
      ],
      "metadata": {
        "colab": {
          "base_uri": "https://localhost:8080/"
        },
        "id": "VxCdqaxLbxzZ",
        "outputId": "48bfb530-4afb-4b91-f17e-f52e94352ff5"
      },
      "execution_count": null,
      "outputs": [
        {
          "output_type": "execute_result",
          "data": {
            "text/plain": [
              "0.75"
            ]
          },
          "metadata": {},
          "execution_count": 4
        }
      ]
    },
    {
      "cell_type": "code",
      "source": [
        "a ** b"
      ],
      "metadata": {
        "colab": {
          "base_uri": "https://localhost:8080/"
        },
        "id": "770xCrdrbz6t",
        "outputId": "f7b0de28-23f8-4586-c3d7-89cabb86f69d"
      },
      "execution_count": null,
      "outputs": [
        {
          "output_type": "execute_result",
          "data": {
            "text/plain": [
              "81"
            ]
          },
          "metadata": {},
          "execution_count": 5
        }
      ]
    },
    {
      "cell_type": "code",
      "source": [
        "7 % 3"
      ],
      "metadata": {
        "colab": {
          "base_uri": "https://localhost:8080/"
        },
        "id": "2CrIns6wb3RJ",
        "outputId": "6bc79ae3-5d3d-427c-8755-f29317bc91f6"
      },
      "execution_count": null,
      "outputs": [
        {
          "output_type": "execute_result",
          "data": {
            "text/plain": [
              "1"
            ]
          },
          "metadata": {},
          "execution_count": 6
        }
      ]
    },
    {
      "cell_type": "code",
      "source": [
        "3 % 7"
      ],
      "metadata": {
        "colab": {
          "base_uri": "https://localhost:8080/"
        },
        "id": "OORdH9p1b5u1",
        "outputId": "1386e56b-c3b8-4084-9994-e15fc203ef38"
      },
      "execution_count": null,
      "outputs": [
        {
          "output_type": "execute_result",
          "data": {
            "text/plain": [
              "3"
            ]
          },
          "metadata": {},
          "execution_count": 7
        }
      ]
    },
    {
      "cell_type": "code",
      "source": [
        "7 / 4"
      ],
      "metadata": {
        "colab": {
          "base_uri": "https://localhost:8080/"
        },
        "id": "7Yik8YHBb-K1",
        "outputId": "4383c99d-5d8c-4dbf-eba1-74ef80ddb02f"
      },
      "execution_count": null,
      "outputs": [
        {
          "output_type": "execute_result",
          "data": {
            "text/plain": [
              "1.75"
            ]
          },
          "metadata": {},
          "execution_count": 8
        }
      ]
    },
    {
      "cell_type": "code",
      "source": [
        "7 // 4"
      ],
      "metadata": {
        "colab": {
          "base_uri": "https://localhost:8080/"
        },
        "id": "z7DyAqO0cCxM",
        "outputId": "585ec346-4307-411c-a4e1-6c162f6bd266"
      },
      "execution_count": null,
      "outputs": [
        {
          "output_type": "execute_result",
          "data": {
            "text/plain": [
              "1"
            ]
          },
          "metadata": {},
          "execution_count": 9
        }
      ]
    },
    {
      "cell_type": "markdown",
      "source": [
        "### 1-2.문자열"
      ],
      "metadata": {
        "id": "fe0HHQ1ycWgf"
      }
    },
    {
      "cell_type": "code",
      "source": [
        "\"Hello\"\n",
        "'Python'\n",
        "\"\"\"Python\"\"\"\n",
        "'''Hello'''\n",
        "k = 5"
      ],
      "metadata": {
        "id": "AVc--p4dcETv"
      },
      "execution_count": null,
      "outputs": []
    },
    {
      "cell_type": "code",
      "source": [
        "food = \"Python's favorite food is perl\"\n",
        "say = 'Python\\'s favorite food is perl'"
      ],
      "metadata": {
        "id": "PQvKlnWecgkl"
      },
      "execution_count": null,
      "outputs": []
    },
    {
      "cell_type": "code",
      "source": [
        "multiline1 = \"Life is too short\\n You need python\""
      ],
      "metadata": {
        "id": "JboPNI6BdPwc"
      },
      "execution_count": null,
      "outputs": []
    },
    {
      "cell_type": "code",
      "source": [
        "print(multiline1)"
      ],
      "metadata": {
        "colab": {
          "base_uri": "https://localhost:8080/"
        },
        "id": "-AZLszT2dT59",
        "outputId": "40896784-3065-4ee6-bd3a-7713f8bc46d2"
      },
      "execution_count": null,
      "outputs": [
        {
          "output_type": "stream",
          "name": "stdout",
          "text": [
            "Life is too short\n",
            " You need python\n"
          ]
        }
      ]
    },
    {
      "cell_type": "code",
      "source": [
        "multiline1 = \"Life is too short\\n You need python\""
      ],
      "metadata": {
        "id": "tt8kL2BLdWn2"
      },
      "execution_count": null,
      "outputs": []
    },
    {
      "cell_type": "code",
      "source": [
        "multiline2 = \"\"\"Python\n",
        "Hello\n",
        "Hi\n",
        "\"\"\"\n",
        "multiline2"
      ],
      "metadata": {
        "colab": {
          "base_uri": "https://localhost:8080/",
          "height": 35
        },
        "id": "unmo4YIGdniz",
        "outputId": "742473d3-fbf6-4978-8340-9f9f2164a926"
      },
      "execution_count": null,
      "outputs": [
        {
          "output_type": "execute_result",
          "data": {
            "text/plain": [
              "'Python\\nHello\\nHi\\n'"
            ],
            "application/vnd.google.colaboratory.intrinsic+json": {
              "type": "string"
            }
          },
          "metadata": {},
          "execution_count": 15
        }
      ]
    },
    {
      "cell_type": "code",
      "source": [
        "print(multiline2)"
      ],
      "metadata": {
        "colab": {
          "base_uri": "https://localhost:8080/"
        },
        "id": "Z4LSM4jYdtsn",
        "outputId": "79184d81-21e4-4523-9a41-25b170701248"
      },
      "execution_count": null,
      "outputs": [
        {
          "output_type": "stream",
          "name": "stdout",
          "text": [
            "Python\n",
            "Hello\n",
            "Hi\n",
            "\n"
          ]
        }
      ]
    },
    {
      "cell_type": "code",
      "source": [
        "head = \"Python\"\n",
        "tail = \" is fun!\"\n",
        "head + tail"
      ],
      "metadata": {
        "colab": {
          "base_uri": "https://localhost:8080/",
          "height": 35
        },
        "id": "2p43ZoM8dwP3",
        "outputId": "dfcf1299-e9df-42da-a8e6-abc2a737d66c"
      },
      "execution_count": null,
      "outputs": [
        {
          "output_type": "execute_result",
          "data": {
            "text/plain": [
              "'Python is fun!'"
            ],
            "application/vnd.google.colaboratory.intrinsic+json": {
              "type": "string"
            }
          },
          "metadata": {},
          "execution_count": 17
        }
      ]
    },
    {
      "cell_type": "code",
      "source": [
        "a = \"python\"\n",
        "a * 2"
      ],
      "metadata": {
        "colab": {
          "base_uri": "https://localhost:8080/",
          "height": 35
        },
        "id": "2Adqmegdd7KK",
        "outputId": "604ca8f6-7539-446d-a90c-84765c99029c"
      },
      "execution_count": null,
      "outputs": [
        {
          "output_type": "execute_result",
          "data": {
            "text/plain": [
              "'pythonpython'"
            ],
            "application/vnd.google.colaboratory.intrinsic+json": {
              "type": "string"
            }
          },
          "metadata": {},
          "execution_count": 18
        }
      ]
    },
    {
      "cell_type": "code",
      "source": [
        "# 인덱싱\n",
        "a = \"Life is too short, You need Python\"\n",
        "a[0]"
      ],
      "metadata": {
        "colab": {
          "base_uri": "https://localhost:8080/",
          "height": 35
        },
        "id": "V1Y5USpHd_bD",
        "outputId": "635e631f-25cd-4581-caae-7063ee24c4f4"
      },
      "execution_count": null,
      "outputs": [
        {
          "output_type": "execute_result",
          "data": {
            "text/plain": [
              "'L'"
            ],
            "application/vnd.google.colaboratory.intrinsic+json": {
              "type": "string"
            }
          },
          "metadata": {},
          "execution_count": 19
        }
      ]
    },
    {
      "cell_type": "code",
      "source": [
        "a[-1]"
      ],
      "metadata": {
        "colab": {
          "base_uri": "https://localhost:8080/",
          "height": 35
        },
        "id": "v33AsPC_eKNZ",
        "outputId": "5bbc3412-b2c5-4079-b17c-65c725e5387b"
      },
      "execution_count": null,
      "outputs": [
        {
          "output_type": "execute_result",
          "data": {
            "text/plain": [
              "'n'"
            ],
            "application/vnd.google.colaboratory.intrinsic+json": {
              "type": "string"
            }
          },
          "metadata": {},
          "execution_count": 21
        }
      ]
    },
    {
      "cell_type": "code",
      "source": [
        "a[12]"
      ],
      "metadata": {
        "colab": {
          "base_uri": "https://localhost:8080/",
          "height": 35
        },
        "id": "JwG72ZAHeO50",
        "outputId": "9a0589b3-ef16-4537-96fa-b7f53d140d8b"
      },
      "execution_count": null,
      "outputs": [
        {
          "output_type": "execute_result",
          "data": {
            "text/plain": [
              "'s'"
            ],
            "application/vnd.google.colaboratory.intrinsic+json": {
              "type": "string"
            }
          },
          "metadata": {},
          "execution_count": 22
        }
      ]
    },
    {
      "cell_type": "code",
      "source": [
        "# 슬라이싱 [start:end:step]\n",
        "a = \"Life is too short, You need Python\"\n",
        "a[0:4] #"
      ],
      "metadata": {
        "colab": {
          "base_uri": "https://localhost:8080/",
          "height": 35
        },
        "id": "aMmP1lqLeVsZ",
        "outputId": "abf8958e-59e3-4fd5-85dc-2c446a57fc97"
      },
      "execution_count": null,
      "outputs": [
        {
          "output_type": "execute_result",
          "data": {
            "text/plain": [
              "'Life'"
            ],
            "application/vnd.google.colaboratory.intrinsic+json": {
              "type": "string"
            }
          },
          "metadata": {},
          "execution_count": 23
        }
      ]
    },
    {
      "cell_type": "code",
      "source": [
        "a[5:6] # a의 5번째 값인 'i'만 나오게 됨"
      ],
      "metadata": {
        "colab": {
          "base_uri": "https://localhost:8080/",
          "height": 35
        },
        "id": "LAdjqWRcfA7i",
        "outputId": "8e4509bc-6224-42cb-886f-cb67e2439f5f"
      },
      "execution_count": null,
      "outputs": [
        {
          "output_type": "execute_result",
          "data": {
            "text/plain": [
              "'i'"
            ],
            "application/vnd.google.colaboratory.intrinsic+json": {
              "type": "string"
            }
          },
          "metadata": {},
          "execution_count": 24
        }
      ]
    },
    {
      "cell_type": "code",
      "source": [
        "# is 출력\n",
        "a[5:7]"
      ],
      "metadata": {
        "colab": {
          "base_uri": "https://localhost:8080/",
          "height": 35
        },
        "id": "ClIb7IhwfeRd",
        "outputId": "4f7c7d6f-f9ac-4a6d-d51f-774882622881"
      },
      "execution_count": null,
      "outputs": [
        {
          "output_type": "execute_result",
          "data": {
            "text/plain": [
              "'is'"
            ],
            "application/vnd.google.colaboratory.intrinsic+json": {
              "type": "string"
            }
          },
          "metadata": {},
          "execution_count": 25
        }
      ]
    },
    {
      "cell_type": "code",
      "source": [
        "a = \"20010331Rainy\"\n",
        "year = a[:4]\n",
        "day = a[4:8]\n",
        "weather = a[8:]\n",
        "print(\"year : \", year)\n",
        "print(\"day : \", day)\n",
        "print(\"weather : \", weather)"
      ],
      "metadata": {
        "colab": {
          "base_uri": "https://localhost:8080/"
        },
        "id": "hNfpkb8Wfg3t",
        "outputId": "91b047f3-4347-4a02-9784-dd8e1c68958f"
      },
      "execution_count": null,
      "outputs": [
        {
          "output_type": "stream",
          "name": "stdout",
          "text": [
            "year :  2001\n",
            "day :  0331\n",
            "weather :  Rainy\n"
          ]
        }
      ]
    },
    {
      "cell_type": "code",
      "source": [
        "# 문자열 포매팅\n",
        "\"I eat %d apples.\" % 3"
      ],
      "metadata": {
        "colab": {
          "base_uri": "https://localhost:8080/",
          "height": 35
        },
        "id": "ZLD94LYVfs6k",
        "outputId": "38cb74e3-7c50-44c1-86af-2a11408968ff"
      },
      "execution_count": null,
      "outputs": [
        {
          "output_type": "execute_result",
          "data": {
            "text/plain": [
              "'I eat 3 apples.'"
            ],
            "application/vnd.google.colaboratory.intrinsic+json": {
              "type": "string"
            }
          },
          "metadata": {},
          "execution_count": 28
        }
      ]
    },
    {
      "cell_type": "code",
      "source": [
        "number = 10\n",
        "day = \"three\"\n",
        "\"I ate %d apples. so I was sick for %s days.\" % (number, day)"
      ],
      "metadata": {
        "colab": {
          "base_uri": "https://localhost:8080/",
          "height": 35
        },
        "id": "anEUvzIagTjV",
        "outputId": "a6e158e0-0010-44d9-fd07-75435d6a4ed6"
      },
      "execution_count": null,
      "outputs": [
        {
          "output_type": "execute_result",
          "data": {
            "text/plain": [
              "'I ate 10 apples. so I was sick for three days.'"
            ],
            "application/vnd.google.colaboratory.intrinsic+json": {
              "type": "string"
            }
          },
          "metadata": {},
          "execution_count": 29
        }
      ]
    },
    {
      "cell_type": "code",
      "source": [
        "# 문자열 개수 세기\n",
        "a = \"hobby\"\n",
        "a.count('b')"
      ],
      "metadata": {
        "colab": {
          "base_uri": "https://localhost:8080/"
        },
        "id": "0reNrRCXgbtC",
        "outputId": "df24b016-2efa-4c70-f7b0-96a65a9d1b1a"
      },
      "execution_count": null,
      "outputs": [
        {
          "output_type": "execute_result",
          "data": {
            "text/plain": [
              "2"
            ]
          },
          "metadata": {},
          "execution_count": 30
        }
      ]
    },
    {
      "cell_type": "code",
      "source": [
        "# 위치 알려주기\n",
        "a = \"Python is the best choice\"\n",
        "a.find('b')"
      ],
      "metadata": {
        "colab": {
          "base_uri": "https://localhost:8080/"
        },
        "id": "YRFcJl8lg1qx",
        "outputId": "9ade5e55-30df-42b4-e06c-2b51b8fc30d2"
      },
      "execution_count": null,
      "outputs": [
        {
          "output_type": "execute_result",
          "data": {
            "text/plain": [
              "14"
            ]
          },
          "metadata": {},
          "execution_count": 31
        }
      ]
    },
    {
      "cell_type": "code",
      "source": [
        "a.find('k')"
      ],
      "metadata": {
        "colab": {
          "base_uri": "https://localhost:8080/"
        },
        "id": "3p0J5-Qmg4vh",
        "outputId": "5f91467d-524b-4aab-d59f-f7683bbf82f0"
      },
      "execution_count": null,
      "outputs": [
        {
          "output_type": "execute_result",
          "data": {
            "text/plain": [
              "-1"
            ]
          },
          "metadata": {},
          "execution_count": 32
        }
      ]
    },
    {
      "cell_type": "code",
      "source": [
        "a = \"Life is too short\"\n",
        "a.index('t')"
      ],
      "metadata": {
        "colab": {
          "base_uri": "https://localhost:8080/"
        },
        "id": "W57Oz5B0g8er",
        "outputId": "dbaf6f76-f93a-4ff7-b2f3-da320e008dc1"
      },
      "execution_count": null,
      "outputs": [
        {
          "output_type": "execute_result",
          "data": {
            "text/plain": [
              "8"
            ]
          },
          "metadata": {},
          "execution_count": 33
        }
      ]
    },
    {
      "cell_type": "code",
      "source": [
        "# 없는 문자열은 에러로 출력\n",
        "a.index('k')"
      ],
      "metadata": {
        "colab": {
          "base_uri": "https://localhost:8080/",
          "height": 141
        },
        "id": "CJ7oZsPbg_KD",
        "outputId": "b69520aa-7b1e-4227-dd13-5a6a904fa7da"
      },
      "execution_count": null,
      "outputs": [
        {
          "output_type": "error",
          "ename": "ValueError",
          "evalue": "substring not found",
          "traceback": [
            "\u001b[0;31m---------------------------------------------------------------------------\u001b[0m",
            "\u001b[0;31mValueError\u001b[0m                                Traceback (most recent call last)",
            "\u001b[0;32m<ipython-input-34-cb6c8ec35229>\u001b[0m in \u001b[0;36m<cell line: 1>\u001b[0;34m()\u001b[0m\n\u001b[0;32m----> 1\u001b[0;31m \u001b[0ma\u001b[0m\u001b[0;34m.\u001b[0m\u001b[0mindex\u001b[0m\u001b[0;34m(\u001b[0m\u001b[0;34m'k'\u001b[0m\u001b[0;34m)\u001b[0m\u001b[0;34m\u001b[0m\u001b[0;34m\u001b[0m\u001b[0m\n\u001b[0m",
            "\u001b[0;31mValueError\u001b[0m: substring not found"
          ]
        }
      ]
    },
    {
      "cell_type": "code",
      "source": [
        "# 문자열 삽입\n",
        "a = \",\"\n",
        "a.join('abcd')"
      ],
      "metadata": {
        "colab": {
          "base_uri": "https://localhost:8080/",
          "height": 35
        },
        "id": "Ee2i5MLEhBsp",
        "outputId": "cabb6531-16f1-451e-bdf8-170d89ce3356"
      },
      "execution_count": null,
      "outputs": [
        {
          "output_type": "execute_result",
          "data": {
            "text/plain": [
              "'a,b,c,d'"
            ],
            "application/vnd.google.colaboratory.intrinsic+json": {
              "type": "string"
            }
          },
          "metadata": {},
          "execution_count": 36
        }
      ]
    },
    {
      "cell_type": "code",
      "source": [
        "# 소문자를 대문자로 변환(upper)\n",
        "a = \"hi\"\n",
        "a.upper()"
      ],
      "metadata": {
        "colab": {
          "base_uri": "https://localhost:8080/",
          "height": 35
        },
        "id": "4_YsUFAghJ-X",
        "outputId": "53f3cec8-6dd3-4b2b-a16a-54af52ae22b0"
      },
      "execution_count": null,
      "outputs": [
        {
          "output_type": "execute_result",
          "data": {
            "text/plain": [
              "'HI'"
            ],
            "application/vnd.google.colaboratory.intrinsic+json": {
              "type": "string"
            }
          },
          "metadata": {},
          "execution_count": 37
        }
      ]
    },
    {
      "cell_type": "code",
      "source": [
        "# 양쪽 공백 지우기(strip)\n",
        "a = \"      hi        \"\n",
        "a.strip()"
      ],
      "metadata": {
        "colab": {
          "base_uri": "https://localhost:8080/",
          "height": 35
        },
        "id": "_2pWvtAkhRra",
        "outputId": "c77b2959-7759-4ef5-9729-02e28d3b0f5b"
      },
      "execution_count": null,
      "outputs": [
        {
          "output_type": "execute_result",
          "data": {
            "text/plain": [
              "'hi'"
            ],
            "application/vnd.google.colaboratory.intrinsic+json": {
              "type": "string"
            }
          },
          "metadata": {},
          "execution_count": 38
        }
      ]
    },
    {
      "cell_type": "code",
      "source": [
        "# 문자열 바꾸기 (replace)\n",
        "a = \"Life is too short\"\n",
        "a.replace(\"Life\", \"Your leg\")"
      ],
      "metadata": {
        "colab": {
          "base_uri": "https://localhost:8080/",
          "height": 35
        },
        "id": "WffhAZBohbIB",
        "outputId": "2ef81bbf-4d44-4322-868a-01be90d57134"
      },
      "execution_count": null,
      "outputs": [
        {
          "output_type": "execute_result",
          "data": {
            "text/plain": [
              "'Your leg is too short'"
            ],
            "application/vnd.google.colaboratory.intrinsic+json": {
              "type": "string"
            }
          },
          "metadata": {},
          "execution_count": 39
        }
      ]
    },
    {
      "cell_type": "code",
      "source": [
        "# 문자열 나누기 (split)\n",
        "a = \"Life is too short\"\n",
        "a.split() # default는 ' '"
      ],
      "metadata": {
        "colab": {
          "base_uri": "https://localhost:8080/"
        },
        "id": "Eqmhnwemhj1Q",
        "outputId": "d75e7403-8f9f-451d-91c5-683b98327b2b"
      },
      "execution_count": null,
      "outputs": [
        {
          "output_type": "execute_result",
          "data": {
            "text/plain": [
              "['Life', 'is', 'too', 'short']"
            ]
          },
          "metadata": {},
          "execution_count": 40
        }
      ]
    },
    {
      "cell_type": "code",
      "source": [
        "a.split('e')"
      ],
      "metadata": {
        "colab": {
          "base_uri": "https://localhost:8080/"
        },
        "id": "IEuTsc4YhtXi",
        "outputId": "2caf11f4-b0db-4b6a-d1bb-c91674c05a26"
      },
      "execution_count": null,
      "outputs": [
        {
          "output_type": "execute_result",
          "data": {
            "text/plain": [
              "['Lif', ' is too short']"
            ]
          },
          "metadata": {},
          "execution_count": 41
        }
      ]
    },
    {
      "cell_type": "code",
      "source": [
        "a = \"a:b:c:d\"\n",
        "a.split(':')"
      ],
      "metadata": {
        "colab": {
          "base_uri": "https://localhost:8080/"
        },
        "id": "DJLeN9sUhygX",
        "outputId": "cf226bde-dd37-4348-a38c-3ab38ab25d33"
      },
      "execution_count": null,
      "outputs": [
        {
          "output_type": "execute_result",
          "data": {
            "text/plain": [
              "['a', 'b', 'c', 'd']"
            ]
          },
          "metadata": {},
          "execution_count": 42
        }
      ]
    },
    {
      "cell_type": "markdown",
      "source": [
        "# 2.조건문, 반복문"
      ],
      "metadata": {
        "id": "jlG_cq23iBgb"
      }
    },
    {
      "cell_type": "markdown",
      "source": [
        "### 2-1.조건문(IF)"
      ],
      "metadata": {
        "id": "xaIpGTW7nLqP"
      }
    },
    {
      "cell_type": "markdown",
      "source": [
        "조건문은 if다"
      ],
      "metadata": {
        "id": "uigAZ5jwiOgQ"
      }
    },
    {
      "cell_type": "code",
      "source": [
        "money = True\n",
        "if money:\n",
        "    print(\"택시를 타고 가라\")\n",
        "else:\n",
        "    print(\"걸어가라\")"
      ],
      "metadata": {
        "colab": {
          "base_uri": "https://localhost:8080/"
        },
        "id": "wNx3wAqLh7kw",
        "outputId": "9620d463-27ac-4c55-bc99-7be3a0fb91d8"
      },
      "execution_count": null,
      "outputs": [
        {
          "output_type": "stream",
          "name": "stdout",
          "text": [
            "택시를 타고 가라\n"
          ]
        }
      ]
    },
    {
      "cell_type": "code",
      "source": [
        "x = 3\n",
        "y = 2\n",
        "x > y"
      ],
      "metadata": {
        "colab": {
          "base_uri": "https://localhost:8080/"
        },
        "id": "N2UqnhyjiUXN",
        "outputId": "deeb7111-1d36-498d-e063-c63ac4365dda"
      },
      "execution_count": null,
      "outputs": [
        {
          "output_type": "execute_result",
          "data": {
            "text/plain": [
              "True"
            ]
          },
          "metadata": {},
          "execution_count": 44
        }
      ]
    },
    {
      "cell_type": "code",
      "source": [
        "x < y"
      ],
      "metadata": {
        "colab": {
          "base_uri": "https://localhost:8080/"
        },
        "id": "IpJuilImi3bM",
        "outputId": "957b0290-9a83-4c5c-9107-092a912555da"
      },
      "execution_count": null,
      "outputs": [
        {
          "output_type": "execute_result",
          "data": {
            "text/plain": [
              "False"
            ]
          },
          "metadata": {},
          "execution_count": 45
        }
      ]
    },
    {
      "cell_type": "code",
      "source": [
        "x == y"
      ],
      "metadata": {
        "colab": {
          "base_uri": "https://localhost:8080/"
        },
        "id": "N89tyalIi7EM",
        "outputId": "bf3fc7e8-c60c-4e24-ec38-92d6b2030cb1"
      },
      "execution_count": null,
      "outputs": [
        {
          "output_type": "execute_result",
          "data": {
            "text/plain": [
              "False"
            ]
          },
          "metadata": {},
          "execution_count": 46
        }
      ]
    },
    {
      "cell_type": "code",
      "source": [
        "x != y"
      ],
      "metadata": {
        "colab": {
          "base_uri": "https://localhost:8080/"
        },
        "id": "tLjR1yPYi-NZ",
        "outputId": "5e4edc91-e568-450a-9193-2fa88f74e890"
      },
      "execution_count": null,
      "outputs": [
        {
          "output_type": "execute_result",
          "data": {
            "text/plain": [
              "True"
            ]
          },
          "metadata": {},
          "execution_count": 47
        }
      ]
    },
    {
      "cell_type": "code",
      "source": [
        "# 조건문(if문)\n",
        "money = 500\n",
        "if money >= 1000:\n",
        "    print(\"택시를 타고 가라\")\n",
        "else:\n",
        "    print(\"걸어가라\")"
      ],
      "metadata": {
        "colab": {
          "base_uri": "https://localhost:8080/"
        },
        "id": "msmVRQRljApA",
        "outputId": "71db6f07-4096-420a-b029-19ac0ad15f41"
      },
      "execution_count": null,
      "outputs": [
        {
          "output_type": "stream",
          "name": "stdout",
          "text": [
            "걸어가라\n"
          ]
        }
      ]
    },
    {
      "cell_type": "code",
      "source": [
        "money = 3000\n",
        "if money >= 1000:\n",
        "    print(\"택시를 타고 가라\")\n",
        "else:\n",
        "    print(\"걸어가라\")"
      ],
      "metadata": {
        "colab": {
          "base_uri": "https://localhost:8080/"
        },
        "id": "qAaR7zyLjPfR",
        "outputId": "04978fba-44d4-423d-defa-3a5522e51b06"
      },
      "execution_count": null,
      "outputs": [
        {
          "output_type": "stream",
          "name": "stdout",
          "text": [
            "택시를 타고 가라\n"
          ]
        }
      ]
    },
    {
      "cell_type": "code",
      "source": [
        "money = 2000\n",
        "bitcoin = 1 # 0으로 해도 '택시를 타고 가라'가 나옴\n",
        "if money >= 1000 or bitcoin >= 1: # True or True -> True\n",
        "    print(\"택시를 타고 가라\")\n",
        "else:\n",
        "    print(\"걸어가라\")"
      ],
      "metadata": {
        "colab": {
          "base_uri": "https://localhost:8080/"
        },
        "id": "GJVBA7zHjV6s",
        "outputId": "d91ad964-106b-4672-c4e5-de688ef599c4"
      },
      "execution_count": null,
      "outputs": [
        {
          "output_type": "stream",
          "name": "stdout",
          "text": [
            "택시를 타고 가라\n"
          ]
        }
      ]
    },
    {
      "cell_type": "code",
      "source": [
        "1 in [1, 2, 3]"
      ],
      "metadata": {
        "colab": {
          "base_uri": "https://localhost:8080/"
        },
        "id": "Pyl-UnVRjntG",
        "outputId": "1a4fdcf2-3a7d-410a-e63a-6905f7c57832"
      },
      "execution_count": null,
      "outputs": [
        {
          "output_type": "execute_result",
          "data": {
            "text/plain": [
              "True"
            ]
          },
          "metadata": {},
          "execution_count": 53
        }
      ]
    },
    {
      "cell_type": "code",
      "source": [
        "1 not in [1, 2, 3]"
      ],
      "metadata": {
        "colab": {
          "base_uri": "https://localhost:8080/"
        },
        "id": "WAZJhfxvkC1S",
        "outputId": "669dadeb-d9fc-41d0-e787-4b977a5484e2"
      },
      "execution_count": null,
      "outputs": [
        {
          "output_type": "execute_result",
          "data": {
            "text/plain": [
              "False"
            ]
          },
          "metadata": {},
          "execution_count": 54
        }
      ]
    },
    {
      "cell_type": "code",
      "source": [
        "pocket = ['paper', 'cellphone', 'money']\n",
        "if 'money' in pocket:\n",
        "    print(\"택시를 타고 가라\")\n",
        "else:\n",
        "    print(\"걸어가라\")"
      ],
      "metadata": {
        "colab": {
          "base_uri": "https://localhost:8080/"
        },
        "id": "8CPSVF0tkH_p",
        "outputId": "8f7dec1a-8774-40d3-a1a7-a7a4eb295b37"
      },
      "execution_count": null,
      "outputs": [
        {
          "output_type": "stream",
          "name": "stdout",
          "text": [
            "택시를 타고 가라\n"
          ]
        }
      ]
    },
    {
      "cell_type": "code",
      "source": [
        "pocket = ['paper', 'cellphone', 'money']\n",
        "if 'money' in pocket:\n",
        "    pass\n",
        "else:\n",
        "    print(\"아무 일도 하지 말자\")"
      ],
      "metadata": {
        "id": "mTDGupu_kbq8"
      },
      "execution_count": null,
      "outputs": []
    },
    {
      "cell_type": "code",
      "source": [
        "# 다중 조건 판단 elif\n",
        "pocket = ['paper', 'cellphone']\n",
        "card = True\n",
        "if 'money' in pocket:\n",
        "    print(\"택시를 타고 가라1\")\n",
        "elif card:\n",
        "    print(\"택시를 타고 가라2\")\n",
        "else:\n",
        "    print(\"걸어가라\")"
      ],
      "metadata": {
        "colab": {
          "base_uri": "https://localhost:8080/"
        },
        "id": "CJicP_jakR6O",
        "outputId": "e980c8e6-e4b9-4bdb-dc1e-b6aabc2f10c7"
      },
      "execution_count": null,
      "outputs": [
        {
          "output_type": "stream",
          "name": "stdout",
          "text": [
            "택시를 타고 가라2\n"
          ]
        }
      ]
    },
    {
      "cell_type": "markdown",
      "source": [
        "### 2-2.반복문(While)"
      ],
      "metadata": {
        "id": "CpwO8R5PnQZm"
      }
    },
    {
      "cell_type": "code",
      "source": [
        "save_money = 0\n",
        "while save_money < 12:\n",
        "  save_money = save_money + 1\n",
        "  print(\"적금을 %d번 넣었습니다.\" % save_money)\n",
        "  if save_money == 12:\n",
        "    print(\"적금을 받았습니다.\")"
      ],
      "metadata": {
        "colab": {
          "base_uri": "https://localhost:8080/"
        },
        "id": "8M0QeD_ck4fn",
        "outputId": "1337c6e3-b0c7-4c20-aadd-49291d2bb5ac"
      },
      "execution_count": null,
      "outputs": [
        {
          "output_type": "stream",
          "name": "stdout",
          "text": [
            "적금을 1번 넣었습니다.\n",
            "적금을 2번 넣었습니다.\n",
            "적금을 3번 넣었습니다.\n",
            "적금을 4번 넣었습니다.\n",
            "적금을 5번 넣었습니다.\n",
            "적금을 6번 넣었습니다.\n",
            "적금을 7번 넣었습니다.\n",
            "적금을 8번 넣었습니다.\n",
            "적금을 9번 넣었습니다.\n",
            "적금을 10번 넣었습니다.\n",
            "적금을 11번 넣었습니다.\n",
            "적금을 12번 넣었습니다.\n",
            "적금을 받았습니다.\n"
          ]
        }
      ]
    },
    {
      "cell_type": "markdown",
      "source": [
        "if food == 0 으로 해야 조건문이 완성이 된다.\n",
        "하지만 if False가 되는 조건에는 여러개를 허용하여 사용자의 취향에 맞게 코드를 작성할 수 있다.\n",
        "\n",
        "```python\n",
        "if False\n",
        "if 0\n",
        "if ''\n",
        "if \"\"\n",
        "if None\n",
        "if []\n",
        "if ()\n",
        "if {}\n",
        "\n",
        "\n",
        "```\n",
        "\n",
        "> 한 예로, if 90 은 if True와 같다."
      ],
      "metadata": {
        "id": "gPFdftJOo_QR"
      }
    },
    {
      "cell_type": "code",
      "source": [
        "# 반복문 break\n",
        "food = 100\n",
        "money = 12000\n",
        "while money :\n",
        "  print(\"돈을 내고 음식을 먹습니다\")\n",
        "  food = food - 10\n",
        "  print(\"남은 음식의 양은 %d gram입니다.\" %food)\n",
        "  if not food: # not 0 일때 not False 이므로 -> True\n",
        "    print(\"먹을 음식이 없어요\")\n",
        "    break"
      ],
      "metadata": {
        "colab": {
          "base_uri": "https://localhost:8080/"
        },
        "id": "e_W5C_geoBhV",
        "outputId": "3cc5e6b8-3895-47c0-e791-c7dccfba9df6"
      },
      "execution_count": null,
      "outputs": [
        {
          "output_type": "stream",
          "name": "stdout",
          "text": [
            "돈을 내고 음식을 먹습니다\n",
            "남은 음식의 양은 90 gram입니다.\n",
            "돈을 내고 음식을 먹습니다\n",
            "남은 음식의 양은 80 gram입니다.\n",
            "돈을 내고 음식을 먹습니다\n",
            "남은 음식의 양은 70 gram입니다.\n",
            "돈을 내고 음식을 먹습니다\n",
            "남은 음식의 양은 60 gram입니다.\n",
            "돈을 내고 음식을 먹습니다\n",
            "남은 음식의 양은 50 gram입니다.\n",
            "돈을 내고 음식을 먹습니다\n",
            "남은 음식의 양은 40 gram입니다.\n",
            "돈을 내고 음식을 먹습니다\n",
            "남은 음식의 양은 30 gram입니다.\n",
            "돈을 내고 음식을 먹습니다\n",
            "남은 음식의 양은 20 gram입니다.\n",
            "돈을 내고 음식을 먹습니다\n",
            "남은 음식의 양은 10 gram입니다.\n",
            "돈을 내고 음식을 먹습니다\n",
            "남은 음식의 양은 0 gram입니다.\n",
            "먹을 음식이 없어요\n"
          ]
        }
      ]
    },
    {
      "cell_type": "code",
      "source": [
        "# 반복문 continue\n",
        "a = 0\n",
        "while a < 10:\n",
        "  a = a + 1\n",
        "  if a % 2 == 0: # 짝수\n",
        "    continue\n",
        "  print(a)"
      ],
      "metadata": {
        "colab": {
          "base_uri": "https://localhost:8080/"
        },
        "id": "uaQ2-NHKowqW",
        "outputId": "570cf356-f4eb-4a60-d06f-c3ce1e94aa2d"
      },
      "execution_count": null,
      "outputs": [
        {
          "output_type": "stream",
          "name": "stdout",
          "text": [
            "1\n",
            "3\n",
            "5\n",
            "7\n",
            "9\n"
          ]
        }
      ]
    },
    {
      "cell_type": "code",
      "source": [
        "# 반복문(while 문 ) 무한 루프\n",
        "numData = []\n",
        "while True:\n",
        "  num = int(input('숫자를 입력하세요: ')) # int('1')\n",
        "  if num % 10 == 0:\n",
        "    print('프로그램 종료')\n",
        "    break\n",
        "  else:\n",
        "    print(num)\n",
        "    numData.append(num)\n",
        "\n",
        "print(numData)"
      ],
      "metadata": {
        "colab": {
          "base_uri": "https://localhost:8080/"
        },
        "id": "qHyt9nkAqGw2",
        "outputId": "1f215880-4b19-4d36-d3fd-39a6d1a97c17"
      },
      "execution_count": null,
      "outputs": [
        {
          "output_type": "stream",
          "name": "stdout",
          "text": [
            "숫자를 입력하세요: 1\n",
            "1\n",
            "숫자를 입력하세요: 2\n",
            "2\n",
            "숫자를 입력하세요: 3\n",
            "3\n",
            "숫자를 입력하세요: 10\n",
            "프로그램 종료\n",
            "[1, 2, 3]\n"
          ]
        }
      ]
    },
    {
      "cell_type": "markdown",
      "source": [
        "### 2-3.For문"
      ],
      "metadata": {
        "id": "p7imBT30r3eH"
      }
    },
    {
      "cell_type": "markdown",
      "source": [
        "for문의 기본 구조\n",
        "\n",
        "\n",
        "for변수 in (리스트 또는 튜플 , 문자열 ):\n",
        "\n",
        "  * 수행할 문장 1\n",
        "  \n",
        "  * 수행할 문장 2"
      ],
      "metadata": {
        "id": "YEybvND0r68v"
      }
    },
    {
      "cell_type": "code",
      "source": [
        "test_list = ['one', 'two', 'three']\n",
        "for i in test_list:\n",
        "  print(i)"
      ],
      "metadata": {
        "colab": {
          "base_uri": "https://localhost:8080/"
        },
        "id": "EfFgC93PrW8e",
        "outputId": "3fa3b7f4-9b13-4366-9417-08aab0a2b290"
      },
      "execution_count": null,
      "outputs": [
        {
          "output_type": "stream",
          "name": "stdout",
          "text": [
            "one\n",
            "two\n",
            "three\n"
          ]
        }
      ]
    },
    {
      "cell_type": "code",
      "source": [
        "# for문 60점이 넘으면 합격이고 그렇지 않으면 불합격\n",
        "score = [90, 25, 67, 45, 80]\n",
        "number = 0\n",
        "for i in score:\n",
        "  number = number + 1\n",
        "  if i >= 60:\n",
        "    print(\"%d번 학생은 합격입니다.\" %number)\n",
        "  else:\n",
        "    print(\"%d번 학생은 불합격입니다.\" %number)\n"
      ],
      "metadata": {
        "colab": {
          "base_uri": "https://localhost:8080/"
        },
        "id": "7dgap4pgsNCA",
        "outputId": "690c593c-4daa-4a0e-9757-f33e08d5097b"
      },
      "execution_count": null,
      "outputs": [
        {
          "output_type": "stream",
          "name": "stdout",
          "text": [
            "1번 학생은 합격입니다.\n",
            "2번 학생은 불합격입니다.\n",
            "3번 학생은 합격입니다.\n",
            "4번 학생은 불합격입니다.\n",
            "5번 학생은 합격입니다.\n"
          ]
        }
      ]
    },
    {
      "cell_type": "code",
      "source": [
        "# 슬라이싱 복습\n",
        "# a[start:end:step]"
      ],
      "metadata": {
        "id": "rLwfJcW_s8ta"
      },
      "execution_count": null,
      "outputs": []
    },
    {
      "cell_type": "code",
      "source": [
        "# for문 range 함수(중요)\n",
        "sum = 0\n",
        "for i in range(1, 11): # range(start, end)\n",
        "  sum = sum + i\n",
        "  print(sum)\n",
        "print(\"최종 sum : \",sum)"
      ],
      "metadata": {
        "colab": {
          "base_uri": "https://localhost:8080/"
        },
        "id": "NhDDkiJhsb7b",
        "outputId": "97e7f48a-53ec-4ecb-9128-b9630d72c5f3"
      },
      "execution_count": null,
      "outputs": [
        {
          "output_type": "stream",
          "name": "stdout",
          "text": [
            "1\n",
            "3\n",
            "6\n",
            "10\n",
            "15\n",
            "21\n",
            "28\n",
            "36\n",
            "45\n",
            "55\n",
            "최종 sum :  55\n"
          ]
        }
      ]
    },
    {
      "cell_type": "code",
      "source": [
        "# print 예시\n",
        "print(2) # print(2, end = '\\n')\n",
        "print(3)"
      ],
      "metadata": {
        "colab": {
          "base_uri": "https://localhost:8080/"
        },
        "id": "tFWirSvetx_f",
        "outputId": "8b7d55bf-3c88-491c-cce8-35bba38d163d"
      },
      "execution_count": null,
      "outputs": [
        {
          "output_type": "stream",
          "name": "stdout",
          "text": [
            "2\n",
            "3\n"
          ]
        }
      ]
    },
    {
      "cell_type": "code",
      "source": [
        "print(2, end = '')\n",
        "print(3, end = '')"
      ],
      "metadata": {
        "colab": {
          "base_uri": "https://localhost:8080/"
        },
        "id": "Midgyt1Ht_k_",
        "outputId": "b7d5822f-0109-433b-a1fa-9de4bd94920a"
      },
      "execution_count": null,
      "outputs": [
        {
          "output_type": "stream",
          "name": "stdout",
          "text": [
            "23"
          ]
        }
      ]
    },
    {
      "cell_type": "code",
      "source": [
        "# 구구단\n",
        "for i in range(2, 10):\n",
        "  for j in range(1, 10):\n",
        "    print(i * j, end = ' ')\n",
        "  print('') # 라인 줄바꿈 담당"
      ],
      "metadata": {
        "colab": {
          "base_uri": "https://localhost:8080/"
        },
        "id": "pvfHFp88su7j",
        "outputId": "192dca43-74d9-452f-83ae-b60e3c2d982a"
      },
      "execution_count": null,
      "outputs": [
        {
          "output_type": "stream",
          "name": "stdout",
          "text": [
            "2 4 6 8 10 12 14 16 18 \n",
            "3 6 9 12 15 18 21 24 27 \n",
            "4 8 12 16 20 24 28 32 36 \n",
            "5 10 15 20 25 30 35 40 45 \n",
            "6 12 18 24 30 36 42 48 54 \n",
            "7 14 21 28 35 42 49 56 63 \n",
            "8 16 24 32 40 48 56 64 72 \n",
            "9 18 27 36 45 54 63 72 81 \n"
          ]
        }
      ]
    },
    {
      "cell_type": "code",
      "source": [
        "# 구구단\n",
        "for i in range(2, 10):\n",
        "  # --- 출력\n",
        "  print(\"--- [ %d단 ] ---\" %i)\n",
        "  for j in range(1, 10):\n",
        "    print(i * j, end = ' ')\n",
        "  print('') # 라인 줄바꿈 담당"
      ],
      "metadata": {
        "colab": {
          "base_uri": "https://localhost:8080/"
        },
        "id": "L9q3NhmhtjMK",
        "outputId": "3c381766-8b23-42ab-efd6-6b99e16aa7c2"
      },
      "execution_count": null,
      "outputs": [
        {
          "output_type": "stream",
          "name": "stdout",
          "text": [
            "--- [ 2단 ] ---\n",
            "2 4 6 8 10 12 14 16 18 \n",
            "--- [ 3단 ] ---\n",
            "3 6 9 12 15 18 21 24 27 \n",
            "--- [ 4단 ] ---\n",
            "4 8 12 16 20 24 28 32 36 \n",
            "--- [ 5단 ] ---\n",
            "5 10 15 20 25 30 35 40 45 \n",
            "--- [ 6단 ] ---\n",
            "6 12 18 24 30 36 42 48 54 \n",
            "--- [ 7단 ] ---\n",
            "7 14 21 28 35 42 49 56 63 \n",
            "--- [ 8단 ] ---\n",
            "8 16 24 32 40 48 56 64 72 \n",
            "--- [ 9단 ] ---\n",
            "9 18 27 36 45 54 63 72 81 \n"
          ]
        }
      ]
    },
    {
      "cell_type": "markdown",
      "source": [
        "### 2-4.Map함수"
      ],
      "metadata": {
        "id": "2VGU0koOvV6s"
      }
    },
    {
      "cell_type": "code",
      "source": [
        "# for vs map\n",
        "myList = [1, 2, 3, 4]\n",
        "result = []\n",
        "for i in myList:\n",
        "  result.append(i + 1)\n",
        "print(result)\n"
      ],
      "metadata": {
        "colab": {
          "base_uri": "https://localhost:8080/"
        },
        "id": "oN3tTzxouzFB",
        "outputId": "79f0b18c-1e11-4b8c-c0f9-87db941a6363"
      },
      "execution_count": null,
      "outputs": [
        {
          "output_type": "stream",
          "name": "stdout",
          "text": [
            "[2, 3, 4, 5]\n"
          ]
        }
      ]
    },
    {
      "cell_type": "code",
      "source": [
        "# map 함수 이용\n",
        "def add_one(n):\n",
        "  return n + 1\n",
        "\n",
        "list(map(add_one, myList))"
      ],
      "metadata": {
        "colab": {
          "base_uri": "https://localhost:8080/"
        },
        "id": "0CEOhwwTvnZH",
        "outputId": "231cfccd-ba95-413f-a69a-8e1fa54eac91"
      },
      "execution_count": null,
      "outputs": [
        {
          "output_type": "execute_result",
          "data": {
            "text/plain": [
              "[2, 3, 4, 5]"
            ]
          },
          "metadata": {},
          "execution_count": 80
        }
      ]
    },
    {
      "cell_type": "code",
      "source": [
        "x,y,z,w = map(add_one, myList)\n",
        "print(\"x y z w\", x, y, z, w)"
      ],
      "metadata": {
        "colab": {
          "base_uri": "https://localhost:8080/"
        },
        "id": "25ePTlkWwK9v",
        "outputId": "3d91ed3f-7509-4970-9e5b-fe337ba01543"
      },
      "execution_count": null,
      "outputs": [
        {
          "output_type": "stream",
          "name": "stdout",
          "text": [
            "x y z w 2 3 4 5\n"
          ]
        }
      ]
    },
    {
      "cell_type": "code",
      "source": [
        "int('1') # -> 정수 1로 변환"
      ],
      "metadata": {
        "id": "eHGSUTYyvtAl"
      },
      "execution_count": null,
      "outputs": []
    },
    {
      "cell_type": "code",
      "source": [
        "a1, b1 = input('정수 두개 입력 > ').split()\n",
        "print(a1, b1)"
      ],
      "metadata": {
        "colab": {
          "base_uri": "https://localhost:8080/"
        },
        "id": "5f6dTBClv2CW",
        "outputId": "c8a4ab47-8a50-4eb3-c483-aac44c095e4f"
      },
      "execution_count": null,
      "outputs": [
        {
          "output_type": "stream",
          "name": "stdout",
          "text": [
            "정수 두개 입력 > 1 2\n",
            "1 2\n"
          ]
        }
      ]
    },
    {
      "cell_type": "code",
      "source": [
        "a, b = input('정수 두개 입력 > ').split(',')\n",
        "print(a, b)"
      ],
      "metadata": {
        "colab": {
          "base_uri": "https://localhost:8080/"
        },
        "id": "ah2GcRj3v17s",
        "outputId": "8f34dca1-d288-4f39-c2af-17745bbca3cb"
      },
      "execution_count": null,
      "outputs": [
        {
          "output_type": "stream",
          "name": "stdout",
          "text": [
            "정수 두개 입력 > 1,2\n",
            "1 2\n"
          ]
        }
      ]
    },
    {
      "cell_type": "code",
      "source": [
        "a2, b2 = map(int, input('실수 두개 입력 > ').split(','))\n",
        "print(a2, b2)"
      ],
      "metadata": {
        "colab": {
          "base_uri": "https://localhost:8080/"
        },
        "id": "QuSU8UBYxLCo",
        "outputId": "216f44d5-be04-4c79-b586-49e1726e843d"
      },
      "execution_count": null,
      "outputs": [
        {
          "output_type": "stream",
          "name": "stdout",
          "text": [
            "실수 두개 입력 > 1,2\n",
            "1 2\n"
          ]
        }
      ]
    },
    {
      "cell_type": "code",
      "source": [
        "print(type(a1))\n",
        "print(type(a2))"
      ],
      "metadata": {
        "colab": {
          "base_uri": "https://localhost:8080/"
        },
        "id": "AewCzqt1xUa8",
        "outputId": "adca816d-09bf-4f02-dc34-8a6806880c25"
      },
      "execution_count": null,
      "outputs": [
        {
          "output_type": "stream",
          "name": "stdout",
          "text": [
            "<class 'str'>\n",
            "<class 'int'>\n"
          ]
        }
      ]
    },
    {
      "cell_type": "code",
      "source": [
        "# for문 리스트 내포 (List Comprehension)\n",
        "a = [1, 2, 3, 4]\n",
        "result = []\n",
        "for num in a:\n",
        "  result.append(num * 3)\n",
        "print(result)"
      ],
      "metadata": {
        "colab": {
          "base_uri": "https://localhost:8080/"
        },
        "id": "zODyg0vMxolO",
        "outputId": "117e275b-c3f2-42b0-be41-82ea61df9a19"
      },
      "execution_count": null,
      "outputs": [
        {
          "output_type": "stream",
          "name": "stdout",
          "text": [
            "[3, 6, 9, 12]\n"
          ]
        }
      ]
    },
    {
      "cell_type": "code",
      "source": [
        "a = [1, 2, 3, 4]\n",
        "result = [num * 3 for num in a]\n",
        "print(result)"
      ],
      "metadata": {
        "colab": {
          "base_uri": "https://localhost:8080/"
        },
        "id": "jYcIK6wVyAkR",
        "outputId": "7b11f40c-0819-4425-ec35-756ca4766720"
      },
      "execution_count": null,
      "outputs": [
        {
          "output_type": "stream",
          "name": "stdout",
          "text": [
            "[3, 6, 9, 12]\n"
          ]
        }
      ]
    },
    {
      "cell_type": "markdown",
      "source": [
        "# 3. 데이터 묶음 자료형"
      ],
      "metadata": {
        "id": "YpRgDXj1ynjR"
      }
    },
    {
      "cell_type": "markdown",
      "source": [
        "### 3-1.리스트"
      ],
      "metadata": {
        "id": "Or-_IGdy1W7k"
      }
    },
    {
      "cell_type": "code",
      "source": [
        "a = [ ]\n",
        "b = [1, 2, 3]\n",
        "c = ['Life', 'is', 'too', 'short']\n",
        "d = [1, 2, 'Life', 'is']\n",
        "e = [1, 2, ['Life', 'is']]"
      ],
      "metadata": {
        "id": "Ti2dkxyLyD2h"
      },
      "execution_count": null,
      "outputs": []
    },
    {
      "cell_type": "code",
      "source": [
        "a = [1, 2, 3]\n",
        "a[0]"
      ],
      "metadata": {
        "colab": {
          "base_uri": "https://localhost:8080/"
        },
        "id": "k6KoKZqWyzPo",
        "outputId": "5d163f22-39da-4b22-96bf-05e34dc88b73"
      },
      "execution_count": null,
      "outputs": [
        {
          "output_type": "execute_result",
          "data": {
            "text/plain": [
              "1"
            ]
          },
          "metadata": {},
          "execution_count": 93
        }
      ]
    },
    {
      "cell_type": "code",
      "source": [
        "a[0] + a[2]"
      ],
      "metadata": {
        "colab": {
          "base_uri": "https://localhost:8080/"
        },
        "id": "DVjpPX33y4e_",
        "outputId": "4d688763-1e9c-4e5b-9057-ebed7489dc58"
      },
      "execution_count": null,
      "outputs": [
        {
          "output_type": "execute_result",
          "data": {
            "text/plain": [
              "4"
            ]
          },
          "metadata": {},
          "execution_count": 94
        }
      ]
    },
    {
      "cell_type": "code",
      "source": [
        "# 리스트의 슬라이싱\n",
        "a = [1, 2, 3, 4, 5]\n",
        "a[0:2]"
      ],
      "metadata": {
        "id": "NPJvvdYXy6MR"
      },
      "execution_count": null,
      "outputs": []
    },
    {
      "cell_type": "code",
      "source": [
        "# 리스트에서 하나의 값 수정하기\n",
        "a = [1, 2, 3]\n",
        "a[2] = 4\n",
        "a"
      ],
      "metadata": {
        "colab": {
          "base_uri": "https://localhost:8080/"
        },
        "id": "ieccQnE4zJUH",
        "outputId": "a2d124ae-a468-4ad0-8a84-6495c00d840b"
      },
      "execution_count": null,
      "outputs": [
        {
          "output_type": "execute_result",
          "data": {
            "text/plain": [
              "[1, 2, 4]"
            ]
          },
          "metadata": {},
          "execution_count": 95
        }
      ]
    },
    {
      "cell_type": "code",
      "source": [
        "# a 리스트의 1 과 2 사이에 a, b, c 라는 새로운 리스트를 넣어라\n",
        "a[1:2] = ['a', 'b', 'c']\n",
        "a"
      ],
      "metadata": {
        "colab": {
          "base_uri": "https://localhost:8080/"
        },
        "id": "_3mJe0X9zOEe",
        "outputId": "4f71fe5f-41da-4e04-e4f1-b894c45771f4"
      },
      "execution_count": null,
      "outputs": [
        {
          "output_type": "execute_result",
          "data": {
            "text/plain": [
              "[1, 'a', 'b', 'c', 4]"
            ]
          },
          "metadata": {},
          "execution_count": 96
        }
      ]
    },
    {
      "cell_type": "code",
      "source": [
        "# del함수 사용해 리스트 요소 삭제하기\n",
        "a = [1, 'c', 4]\n",
        "del a[1]\n",
        "a"
      ],
      "metadata": {
        "colab": {
          "base_uri": "https://localhost:8080/"
        },
        "id": "x44yRmcEzc0V",
        "outputId": "ebbebc0c-fa85-4013-dfbd-bc795ea81759"
      },
      "execution_count": null,
      "outputs": [
        {
          "output_type": "execute_result",
          "data": {
            "text/plain": [
              "[1, 4]"
            ]
          },
          "metadata": {},
          "execution_count": 97
        }
      ]
    },
    {
      "cell_type": "code",
      "source": [
        "# 리스트확장 (extend)\n",
        "a = [1,2,3]\n",
        "a.extend([4,5]) #\n",
        "a"
      ],
      "metadata": {
        "colab": {
          "base_uri": "https://localhost:8080/"
        },
        "id": "2-EcJ4DDz5bR",
        "outputId": "dc8ef29c-b54d-4e27-a1f1-e625d72efa7e"
      },
      "execution_count": null,
      "outputs": [
        {
          "output_type": "execute_result",
          "data": {
            "text/plain": [
              "[1, 2, 3, 4, 5]"
            ]
          },
          "metadata": {},
          "execution_count": 98
        }
      ]
    },
    {
      "cell_type": "code",
      "source": [
        "# 인덱싱\n",
        "a = [1,2,3]\n",
        "a[3:] = [4,5]\n",
        "a\n"
      ],
      "metadata": {
        "colab": {
          "base_uri": "https://localhost:8080/"
        },
        "id": "OGQu36uz0UtR",
        "outputId": "1d30822c-ea8a-4da3-d6f2-f52a04473643"
      },
      "execution_count": null,
      "outputs": [
        {
          "output_type": "execute_result",
          "data": {
            "text/plain": [
              "[1, 2, 3, 4, 5]"
            ]
          },
          "metadata": {},
          "execution_count": 99
        }
      ]
    },
    {
      "cell_type": "code",
      "source": [
        "# 얕은 복사 vs 깊은 복사"
      ],
      "metadata": {
        "id": "AbWQeaWO0bqQ"
      },
      "execution_count": null,
      "outputs": []
    },
    {
      "cell_type": "markdown",
      "source": [
        "### 3-2.튜플"
      ],
      "metadata": {
        "id": "WuJWH_xG1PUt"
      }
    },
    {
      "cell_type": "markdown",
      "source": [
        "변형이 되지 않는 리스트 형태 자료형"
      ],
      "metadata": {
        "id": "nuqgJ1pu1i21"
      }
    },
    {
      "cell_type": "markdown",
      "source": [
        "### 3-3.SET(집합)"
      ],
      "metadata": {
        "id": "OeGZDRFv1RBS"
      }
    },
    {
      "cell_type": "markdown",
      "source": [
        "집합을 의미한다. 순서가 없고 중복이 허용되지 않는다."
      ],
      "metadata": {
        "id": "jzpO9Msy1lUf"
      }
    },
    {
      "cell_type": "code",
      "source": [
        "# 교집합\n",
        "s1 = set([1, 2, 3, 4, 5, 6])\n",
        "s2 = set([4, 5, 6, 7, 8, 9])\n",
        "s1 & s2"
      ],
      "metadata": {
        "colab": {
          "base_uri": "https://localhost:8080/"
        },
        "id": "WfrDImsV0scc",
        "outputId": "72edcd01-1c18-4032-c119-e7e25c594d2f"
      },
      "execution_count": null,
      "outputs": [
        {
          "output_type": "execute_result",
          "data": {
            "text/plain": [
              "{4, 5, 6}"
            ]
          },
          "metadata": {},
          "execution_count": 100
        }
      ]
    },
    {
      "cell_type": "code",
      "source": [
        "s1.intersection(s2)"
      ],
      "metadata": {
        "colab": {
          "base_uri": "https://localhost:8080/"
        },
        "id": "mBDLAFQc1Ov9",
        "outputId": "bd2e4f09-acba-40b7-d864-295c19826d20"
      },
      "execution_count": null,
      "outputs": [
        {
          "output_type": "execute_result",
          "data": {
            "text/plain": [
              "{4, 5, 6}"
            ]
          },
          "metadata": {},
          "execution_count": 101
        }
      ]
    },
    {
      "cell_type": "code",
      "source": [
        "# 합집합\n",
        "s1 = set([1, 2, 3, 4, 5, 6])\n",
        "s2 = set([4, 5, 6, 7, 8, 9])\n",
        "s1 | s2"
      ],
      "metadata": {
        "colab": {
          "base_uri": "https://localhost:8080/"
        },
        "id": "GHfMbuyc17gE",
        "outputId": "b8efb3ad-9a62-4e59-f308-340c038b054f"
      },
      "execution_count": null,
      "outputs": [
        {
          "output_type": "execute_result",
          "data": {
            "text/plain": [
              "{1, 2, 3, 4, 5, 6, 7, 8, 9}"
            ]
          },
          "metadata": {},
          "execution_count": 102
        }
      ]
    },
    {
      "cell_type": "code",
      "source": [
        "s1.union(s2)"
      ],
      "metadata": {
        "colab": {
          "base_uri": "https://localhost:8080/"
        },
        "id": "hOMwzF5X2C5G",
        "outputId": "e64c019e-5225-4b74-dcf1-df50df275530"
      },
      "execution_count": null,
      "outputs": [
        {
          "output_type": "execute_result",
          "data": {
            "text/plain": [
              "{1, 2, 3, 4, 5, 6, 7, 8, 9}"
            ]
          },
          "metadata": {},
          "execution_count": 103
        }
      ]
    },
    {
      "cell_type": "code",
      "source": [
        "# 차집합1\n",
        "s1 = set([1, 2, 3, 4, 5, 6])\n",
        "s2 = set([4, 5, 6, 7, 8, 9])\n",
        "s1 - s2"
      ],
      "metadata": {
        "colab": {
          "base_uri": "https://localhost:8080/"
        },
        "id": "V8JrtDLF2Fqw",
        "outputId": "79f7bb97-f3be-4516-bea8-628fe91d2aa5"
      },
      "execution_count": null,
      "outputs": [
        {
          "output_type": "execute_result",
          "data": {
            "text/plain": [
              "{1, 2, 3}"
            ]
          },
          "metadata": {},
          "execution_count": 104
        }
      ]
    },
    {
      "cell_type": "code",
      "source": [
        "# 차집합2\n",
        "s1.difference(s2)"
      ],
      "metadata": {
        "colab": {
          "base_uri": "https://localhost:8080/"
        },
        "id": "VrdvqRlW2Inj",
        "outputId": "1c41aad8-666b-4aaa-e8c9-20e96bd570d3"
      },
      "execution_count": null,
      "outputs": [
        {
          "output_type": "execute_result",
          "data": {
            "text/plain": [
              "{1, 2, 3}"
            ]
          },
          "metadata": {},
          "execution_count": 105
        }
      ]
    },
    {
      "cell_type": "code",
      "source": [
        "s2.difference(s1)"
      ],
      "metadata": {
        "colab": {
          "base_uri": "https://localhost:8080/"
        },
        "id": "x3JnR5xl2MwZ",
        "outputId": "3518799e-f0e8-48f1-f8e5-ffc086e5a14e"
      },
      "execution_count": null,
      "outputs": [
        {
          "output_type": "execute_result",
          "data": {
            "text/plain": [
              "{7, 8, 9}"
            ]
          },
          "metadata": {},
          "execution_count": 106
        }
      ]
    },
    {
      "cell_type": "code",
      "source": [
        "# 값 1 개 추가하기 (add)\n",
        "s1 = set([1, 2, 3])\n",
        "s1.add(4)\n",
        "s1"
      ],
      "metadata": {
        "colab": {
          "base_uri": "https://localhost:8080/"
        },
        "id": "PxWpc01A2PUr",
        "outputId": "5ed83805-b8f8-4741-af1f-86d8db861c94"
      },
      "execution_count": null,
      "outputs": [
        {
          "output_type": "execute_result",
          "data": {
            "text/plain": [
              "{1, 2, 3, 4}"
            ]
          },
          "metadata": {},
          "execution_count": 107
        }
      ]
    },
    {
      "cell_type": "code",
      "source": [
        "# 값 여러 개 추가하기 (update)\n",
        "s1 = set([1, 2, 3])\n",
        "s1.update([4, 5, 6])\n",
        "s1"
      ],
      "metadata": {
        "colab": {
          "base_uri": "https://localhost:8080/"
        },
        "id": "mSXMbL5m2Z5_",
        "outputId": "d63f1d3f-c7b3-41c0-b180-107855c49f72"
      },
      "execution_count": null,
      "outputs": [
        {
          "output_type": "execute_result",
          "data": {
            "text/plain": [
              "{1, 2, 3, 4, 5, 6}"
            ]
          },
          "metadata": {},
          "execution_count": 108
        }
      ]
    },
    {
      "cell_type": "code",
      "source": [
        "# 특정 값 제거하기 (\n",
        "s1 = set([1, 2, 3])\n",
        "s1.remove(2)\n",
        "s1"
      ],
      "metadata": {
        "id": "6crBjbsI2qHT",
        "outputId": "c6c00403-0f62-49a6-c808-b73752869c25",
        "colab": {
          "base_uri": "https://localhost:8080/"
        }
      },
      "execution_count": null,
      "outputs": [
        {
          "output_type": "execute_result",
          "data": {
            "text/plain": [
              "{1, 3}"
            ]
          },
          "metadata": {},
          "execution_count": 109
        }
      ]
    },
    {
      "cell_type": "code",
      "source": [],
      "metadata": {
        "id": "oniBILAP2srk"
      },
      "execution_count": null,
      "outputs": []
    }
  ]
}